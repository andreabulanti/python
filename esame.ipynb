{
 "cells": [
  {
   "cell_type": "markdown",
   "id": "bc45e25f",
   "metadata": {},
   "source": [
    "## **_Import Libraries_**"
   ]
  },
  {
   "cell_type": "code",
   "execution_count": 1,
   "id": "0d2effe0",
   "metadata": {},
   "outputs": [],
   "source": [
    "import pandas as pd\n",
    "import seaborn as sns\n",
    "import os\n",
    "import matplotlib.pyplot as plt"
   ]
  },
  {
   "cell_type": "markdown",
   "id": "3e069b44",
   "metadata": {},
   "source": [
    "## _Gathering Data & Quickly EDA_\n"
   ]
  },
  {
   "cell_type": "code",
   "execution_count": 2,
   "id": "7d67c060",
   "metadata": {},
   "outputs": [
    {
     "data": {
      "text/html": [
       "<div>\n",
       "<style scoped>\n",
       "    .dataframe tbody tr th:only-of-type {\n",
       "        vertical-align: middle;\n",
       "    }\n",
       "\n",
       "    .dataframe tbody tr th {\n",
       "        vertical-align: top;\n",
       "    }\n",
       "\n",
       "    .dataframe thead th {\n",
       "        text-align: right;\n",
       "    }\n",
       "</style>\n",
       "<table border=\"1\" class=\"dataframe\">\n",
       "  <thead>\n",
       "    <tr style=\"text-align: right;\">\n",
       "      <th></th>\n",
       "      <th>continent</th>\n",
       "      <th>location</th>\n",
       "      <th>date</th>\n",
       "      <th>total_cases</th>\n",
       "      <th>new_cases</th>\n",
       "      <th>icu_patients</th>\n",
       "      <th>hosp_patients</th>\n",
       "    </tr>\n",
       "  </thead>\n",
       "  <tbody>\n",
       "    <tr>\n",
       "      <th>0</th>\n",
       "      <td>Asia</td>\n",
       "      <td>Afghanistan</td>\n",
       "      <td>2020-01-05</td>\n",
       "      <td>NaN</td>\n",
       "      <td>0.0</td>\n",
       "      <td>NaN</td>\n",
       "      <td>NaN</td>\n",
       "    </tr>\n",
       "    <tr>\n",
       "      <th>1</th>\n",
       "      <td>Asia</td>\n",
       "      <td>Afghanistan</td>\n",
       "      <td>2020-01-06</td>\n",
       "      <td>NaN</td>\n",
       "      <td>0.0</td>\n",
       "      <td>NaN</td>\n",
       "      <td>NaN</td>\n",
       "    </tr>\n",
       "    <tr>\n",
       "      <th>2</th>\n",
       "      <td>Asia</td>\n",
       "      <td>Afghanistan</td>\n",
       "      <td>2020-01-07</td>\n",
       "      <td>NaN</td>\n",
       "      <td>0.0</td>\n",
       "      <td>NaN</td>\n",
       "      <td>NaN</td>\n",
       "    </tr>\n",
       "    <tr>\n",
       "      <th>3</th>\n",
       "      <td>Asia</td>\n",
       "      <td>Afghanistan</td>\n",
       "      <td>2020-01-08</td>\n",
       "      <td>NaN</td>\n",
       "      <td>0.0</td>\n",
       "      <td>NaN</td>\n",
       "      <td>NaN</td>\n",
       "    </tr>\n",
       "    <tr>\n",
       "      <th>4</th>\n",
       "      <td>Asia</td>\n",
       "      <td>Afghanistan</td>\n",
       "      <td>2020-01-09</td>\n",
       "      <td>NaN</td>\n",
       "      <td>0.0</td>\n",
       "      <td>NaN</td>\n",
       "      <td>NaN</td>\n",
       "    </tr>\n",
       "    <tr>\n",
       "      <th>5</th>\n",
       "      <td>Asia</td>\n",
       "      <td>Afghanistan</td>\n",
       "      <td>2020-01-10</td>\n",
       "      <td>NaN</td>\n",
       "      <td>0.0</td>\n",
       "      <td>NaN</td>\n",
       "      <td>NaN</td>\n",
       "    </tr>\n",
       "    <tr>\n",
       "      <th>6</th>\n",
       "      <td>Asia</td>\n",
       "      <td>Afghanistan</td>\n",
       "      <td>2020-01-11</td>\n",
       "      <td>NaN</td>\n",
       "      <td>0.0</td>\n",
       "      <td>NaN</td>\n",
       "      <td>NaN</td>\n",
       "    </tr>\n",
       "    <tr>\n",
       "      <th>7</th>\n",
       "      <td>Asia</td>\n",
       "      <td>Afghanistan</td>\n",
       "      <td>2020-01-12</td>\n",
       "      <td>NaN</td>\n",
       "      <td>0.0</td>\n",
       "      <td>NaN</td>\n",
       "      <td>NaN</td>\n",
       "    </tr>\n",
       "    <tr>\n",
       "      <th>8</th>\n",
       "      <td>Asia</td>\n",
       "      <td>Afghanistan</td>\n",
       "      <td>2020-01-13</td>\n",
       "      <td>NaN</td>\n",
       "      <td>0.0</td>\n",
       "      <td>NaN</td>\n",
       "      <td>NaN</td>\n",
       "    </tr>\n",
       "    <tr>\n",
       "      <th>9</th>\n",
       "      <td>Asia</td>\n",
       "      <td>Afghanistan</td>\n",
       "      <td>2020-01-14</td>\n",
       "      <td>NaN</td>\n",
       "      <td>0.0</td>\n",
       "      <td>NaN</td>\n",
       "      <td>NaN</td>\n",
       "    </tr>\n",
       "  </tbody>\n",
       "</table>\n",
       "</div>"
      ],
      "text/plain": [
       "  continent     location       date  total_cases  new_cases  icu_patients  \\\n",
       "0      Asia  Afghanistan 2020-01-05          NaN        0.0           NaN   \n",
       "1      Asia  Afghanistan 2020-01-06          NaN        0.0           NaN   \n",
       "2      Asia  Afghanistan 2020-01-07          NaN        0.0           NaN   \n",
       "3      Asia  Afghanistan 2020-01-08          NaN        0.0           NaN   \n",
       "4      Asia  Afghanistan 2020-01-09          NaN        0.0           NaN   \n",
       "5      Asia  Afghanistan 2020-01-10          NaN        0.0           NaN   \n",
       "6      Asia  Afghanistan 2020-01-11          NaN        0.0           NaN   \n",
       "7      Asia  Afghanistan 2020-01-12          NaN        0.0           NaN   \n",
       "8      Asia  Afghanistan 2020-01-13          NaN        0.0           NaN   \n",
       "9      Asia  Afghanistan 2020-01-14          NaN        0.0           NaN   \n",
       "\n",
       "   hosp_patients  \n",
       "0            NaN  \n",
       "1            NaN  \n",
       "2            NaN  \n",
       "3            NaN  \n",
       "4            NaN  \n",
       "5            NaN  \n",
       "6            NaN  \n",
       "7            NaN  \n",
       "8            NaN  \n",
       "9            NaN  "
      ]
     },
     "execution_count": 2,
     "metadata": {},
     "output_type": "execute_result"
    }
   ],
   "source": [
    "#Reading data from CSV\n",
    "#Converto la colonna \"date\" in \"datetime64[ns] e importo solo le colonne utili all'esercitazione\"\n",
    "\n",
    "directory_path = \"C://Users//Andrea Bulanti//Desktop/\"\n",
    "file_name = \"owid-covid-data.csv\"\n",
    "file_path = os.path.join(directory_path, file_name)\n",
    "\n",
    "df = (pd.read_csv(file_path, \n",
    "                  parse_dates=[\"date\"], \n",
    "                  usecols=[\"continent\", \"location\", \"date\", \"total_cases\", \"new_cases\", \"hosp_patients\", \"icu_patients\"])\n",
    "     )\n",
    "df.head(10)"
   ]
  },
  {
   "cell_type": "code",
   "execution_count": 3,
   "id": "9c22748a",
   "metadata": {},
   "outputs": [
    {
     "name": "stdout",
     "output_type": "stream",
     "text": [
      "<class 'pandas.core.frame.DataFrame'>\n",
      "RangeIndex: 387256 entries, 0 to 387255\n",
      "Data columns (total 7 columns):\n",
      " #   Column         Non-Null Count   Dtype         \n",
      "---  ------         --------------   -----         \n",
      " 0   continent      368729 non-null  object        \n",
      " 1   location       387256 non-null  object        \n",
      " 2   date           387256 non-null  datetime64[ns]\n",
      " 3   total_cases    348333 non-null  float64       \n",
      " 4   new_cases      376280 non-null  float64       \n",
      " 5   icu_patients   38644 non-null   float64       \n",
      " 6   hosp_patients  40181 non-null   float64       \n",
      "dtypes: datetime64[ns](1), float64(4), object(2)\n",
      "memory usage: 62.4 MB\n"
     ]
    }
   ],
   "source": [
    "# Dimensioni del DATASET e relativi metadati\n",
    "\n",
    "# RangeIndex: 387256 entries, 0 to 387255\n",
    "# Data columns (total 7 columns)\n",
    "\n",
    "# dtypes: datetime64[ns](1), float64(4), object(2)\n",
    "# memory usage: 62.4 MB\n",
    "\n",
    "# le uniche colonne che non presentano dei valori nulli sono \"location\" & \"date\"\n",
    "\n",
    "df.info(memory_usage=\"deep\")"
   ]
  },
  {
   "cell_type": "code",
   "execution_count": 4,
   "id": "ed98b470",
   "metadata": {},
   "outputs": [
    {
     "data": {
      "text/html": [
       "<div>\n",
       "<style scoped>\n",
       "    .dataframe tbody tr th:only-of-type {\n",
       "        vertical-align: middle;\n",
       "    }\n",
       "\n",
       "    .dataframe tbody tr th {\n",
       "        vertical-align: top;\n",
       "    }\n",
       "\n",
       "    .dataframe thead th {\n",
       "        text-align: right;\n",
       "    }\n",
       "</style>\n",
       "<table border=\"1\" class=\"dataframe\">\n",
       "  <thead>\n",
       "    <tr style=\"text-align: right;\">\n",
       "      <th></th>\n",
       "      <th>date</th>\n",
       "      <th>total_cases</th>\n",
       "      <th>new_cases</th>\n",
       "      <th>icu_patients</th>\n",
       "      <th>hosp_patients</th>\n",
       "    </tr>\n",
       "  </thead>\n",
       "  <tbody>\n",
       "    <tr>\n",
       "      <th>count</th>\n",
       "      <td>387256.00000</td>\n",
       "      <td>348333.00000</td>\n",
       "      <td>376280.00000</td>\n",
       "      <td>38644.00000</td>\n",
       "      <td>40181.00000</td>\n",
       "    </tr>\n",
       "    <tr>\n",
       "      <th>mean</th>\n",
       "      <td>.5f</td>\n",
       "      <td>7386531.56043</td>\n",
       "      <td>8728.78071</td>\n",
       "      <td>668.16388</td>\n",
       "      <td>3949.12670</td>\n",
       "    </tr>\n",
       "    <tr>\n",
       "      <th>min</th>\n",
       "      <td>.5f</td>\n",
       "      <td>1.00000</td>\n",
       "      <td>0.00000</td>\n",
       "      <td>0.00000</td>\n",
       "      <td>0.00000</td>\n",
       "    </tr>\n",
       "    <tr>\n",
       "      <th>25%</th>\n",
       "      <td>.5f</td>\n",
       "      <td>9448.00000</td>\n",
       "      <td>0.00000</td>\n",
       "      <td>22.00000</td>\n",
       "      <td>194.00000</td>\n",
       "    </tr>\n",
       "    <tr>\n",
       "      <th>50%</th>\n",
       "      <td>.5f</td>\n",
       "      <td>79713.00000</td>\n",
       "      <td>0.00000</td>\n",
       "      <td>93.00000</td>\n",
       "      <td>792.00000</td>\n",
       "    </tr>\n",
       "    <tr>\n",
       "      <th>75%</th>\n",
       "      <td>.5f</td>\n",
       "      <td>851668.00000</td>\n",
       "      <td>0.00000</td>\n",
       "      <td>420.00000</td>\n",
       "      <td>3089.00000</td>\n",
       "    </tr>\n",
       "    <tr>\n",
       "      <th>max</th>\n",
       "      <td>.5f</td>\n",
       "      <td>774954379.00000</td>\n",
       "      <td>44236227.00000</td>\n",
       "      <td>28891.00000</td>\n",
       "      <td>154497.00000</td>\n",
       "    </tr>\n",
       "    <tr>\n",
       "      <th>std</th>\n",
       "      <td>nan</td>\n",
       "      <td>43985088.36620</td>\n",
       "      <td>239704.80135</td>\n",
       "      <td>2151.49637</td>\n",
       "      <td>9895.81626</td>\n",
       "    </tr>\n",
       "  </tbody>\n",
       "</table>\n",
       "</div>"
      ],
      "text/plain": [
       "               date      total_cases       new_cases icu_patients  \\\n",
       "count  387256.00000     348333.00000    376280.00000  38644.00000   \n",
       "mean            .5f    7386531.56043      8728.78071    668.16388   \n",
       "min             .5f          1.00000         0.00000      0.00000   \n",
       "25%             .5f       9448.00000         0.00000     22.00000   \n",
       "50%             .5f      79713.00000         0.00000     93.00000   \n",
       "75%             .5f     851668.00000         0.00000    420.00000   \n",
       "max             .5f  774954379.00000  44236227.00000  28891.00000   \n",
       "std             nan   43985088.36620    239704.80135   2151.49637   \n",
       "\n",
       "      hosp_patients  \n",
       "count   40181.00000  \n",
       "mean     3949.12670  \n",
       "min         0.00000  \n",
       "25%       194.00000  \n",
       "50%       792.00000  \n",
       "75%      3089.00000  \n",
       "max    154497.00000  \n",
       "std      9895.81626  "
      ]
     },
     "execution_count": 4,
     "metadata": {},
     "output_type": "execute_result"
    }
   ],
   "source": [
    "# Informazioni statistiche circa le colonne numeriche del dataset\n",
    "# Formattazione dell' output per rimuovere la notazione scientifica\n",
    "\n",
    "df.describe().apply(lambda s: s.apply('{0:.5f}'.format))"
   ]
  },
  {
   "cell_type": "markdown",
   "id": "55c53787",
   "metadata": {},
   "source": [
    "## 1st Request: Numero dei casi totali per continente"
   ]
  },
  {
   "cell_type": "code",
   "execution_count": 5,
   "id": "4b789976",
   "metadata": {},
   "outputs": [
    {
     "data": {
      "text/plain": [
       "[Text(50.72222222222221, 0.5, 'Continenti'),\n",
       " Text(0.5, 1.0, 'Numero dei casi per Continente')]"
      ]
     },
     "execution_count": 5,
     "metadata": {},
     "output_type": "execute_result"
    },
    {
     "data": {
      "image/png": "[encoded data removed]",
      "text/plain": [
       "<Figure size 640x480 with 1 Axes>"
      ]
     },
     "metadata": {},
     "output_type": "display_data"
    }
   ],
   "source": [
    "# Utilizzo la colonna \"new_cases\" per rappresentare il dato.\n",
    "# Filtro il df rimuovendo le righe prive di location - > nel df non esistono righe prive di continente.\n",
    "# La colonna rappresenta i nuovi casi confermati di COVID-19.\n",
    "# Le informazioni nel df sono dettagliate a livello giornaliero.\n",
    "\n",
    "\n",
    "(sns.heatmap(df.loc[~df[\"continent\"].isna()]\n",
    " .groupby(\"continent\")\n",
    " .agg({\"new_cases\":\"sum\"})\n",
    " .sort_values(\"new_cases\", ascending = False) ,annot=True, cmap='YlGnBu', fmt=',', cbar=False)\n",
    ").set(ylabel = \"Continenti\", title=\"Numero dei casi per Continente\")\n"
   ]
  },
  {
   "cell_type": "code",
   "execution_count": 6,
   "id": "9eb8f945",
   "metadata": {},
   "outputs": [
    {
     "name": "stdout",
     "output_type": "stream",
     "text": [
      "18527 2509443789.0\n"
     ]
    }
   ],
   "source": [
    "# nel dataframe vi sono 18527 record senza continente, per un totale di 2.509.443.789 contagi\n",
    "print(len(df.loc[df.continent.isna()].index), df.loc[df.continent.isna()][\"new_cases\"].sum())\n"
   ]
  },
  {
   "cell_type": "markdown",
   "id": "c881882c",
   "metadata": {},
   "source": [
    "## 2nd Request: Massimo, Media & Ratio per continente"
   ]
  },
  {
   "cell_type": "code",
   "execution_count": 7,
   "id": "efea73dc",
   "metadata": {},
   "outputs": [
    {
     "data": {
      "text/html": [
       "<div>\n",
       "<style scoped>\n",
       "    .dataframe tbody tr th:only-of-type {\n",
       "        vertical-align: middle;\n",
       "    }\n",
       "\n",
       "    .dataframe tbody tr th {\n",
       "        vertical-align: top;\n",
       "    }\n",
       "\n",
       "    .dataframe thead th {\n",
       "        text-align: right;\n",
       "    }\n",
       "</style>\n",
       "<table border=\"1\" class=\"dataframe\">\n",
       "  <thead>\n",
       "    <tr style=\"text-align: right;\">\n",
       "      <th></th>\n",
       "      <th>new_cases_max</th>\n",
       "      <th>new_cases_mean</th>\n",
       "      <th>new_cases_sum</th>\n",
       "      <th>ratio</th>\n",
       "    </tr>\n",
       "    <tr>\n",
       "      <th>continent</th>\n",
       "      <th></th>\n",
       "      <th></th>\n",
       "      <th></th>\n",
       "      <th></th>\n",
       "    </tr>\n",
       "  </thead>\n",
       "  <tbody>\n",
       "    <tr>\n",
       "      <th>Africa</th>\n",
       "      <td>162987.0</td>\n",
       "      <td>150.304606</td>\n",
       "      <td>13141282.0</td>\n",
       "      <td>0.400104</td>\n",
       "    </tr>\n",
       "    <tr>\n",
       "      <th>Asia</th>\n",
       "      <td>40475477.0</td>\n",
       "      <td>4181.239490</td>\n",
       "      <td>301446461.0</td>\n",
       "      <td>9.177945</td>\n",
       "    </tr>\n",
       "    <tr>\n",
       "      <th>Europe</th>\n",
       "      <td>2417043.0</td>\n",
       "      <td>3257.736053</td>\n",
       "      <td>252376812.0</td>\n",
       "      <td>7.683954</td>\n",
       "    </tr>\n",
       "    <tr>\n",
       "      <th>North America</th>\n",
       "      <td>5650933.0</td>\n",
       "      <td>1989.688806</td>\n",
       "      <td>124530643.0</td>\n",
       "      <td>3.791504</td>\n",
       "    </tr>\n",
       "    <tr>\n",
       "      <th>Oceania</th>\n",
       "      <td>588813.0</td>\n",
       "      <td>402.253823</td>\n",
       "      <td>14808170.0</td>\n",
       "      <td>0.450855</td>\n",
       "    </tr>\n",
       "    <tr>\n",
       "      <th>South America</th>\n",
       "      <td>1283024.0</td>\n",
       "      <td>3199.927730</td>\n",
       "      <td>68718448.0</td>\n",
       "      <td>2.092226</td>\n",
       "    </tr>\n",
       "  </tbody>\n",
       "</table>\n",
       "</div>"
      ],
      "text/plain": [
       "               new_cases_max  new_cases_mean  new_cases_sum     ratio\n",
       "continent                                                            \n",
       "Africa              162987.0      150.304606     13141282.0  0.400104\n",
       "Asia              40475477.0     4181.239490    301446461.0  9.177945\n",
       "Europe             2417043.0     3257.736053    252376812.0  7.683954\n",
       "North America      5650933.0     1989.688806    124530643.0  3.791504\n",
       "Oceania             588813.0      402.253823     14808170.0  0.450855\n",
       "South America      1283024.0     3199.927730     68718448.0  2.092226"
      ]
     },
     "execution_count": 7,
     "metadata": {},
     "output_type": "execute_result"
    }
   ],
   "source": [
    "#Considerando tutti i valori presenti a DB, anche quelli privi di continente.\n",
    "\n",
    "total_world_cases = df.loc[:,\"new_cases\"].sum()\n",
    "total_world_cases\n",
    "\n",
    "(df.loc[~df[\"continent\"].isna()]\n",
    " .groupby(\"continent\")\n",
    " .agg(new_cases_max = (\"new_cases\", \"max\"),\n",
    "      new_cases_mean = (\"new_cases\", \"mean\"),\n",
    "      new_cases_sum = (\"new_cases\", \"sum\"))\n",
    ").assign(ratio = lambda x: x[\"new_cases_sum\"] / total_world_cases * 100)"
   ]
  },
  {
   "cell_type": "code",
   "execution_count": 8,
   "id": "8b54ea7c",
   "metadata": {},
   "outputs": [
    {
     "data": {
      "text/html": [
       "<div>\n",
       "<style scoped>\n",
       "    .dataframe tbody tr th:only-of-type {\n",
       "        vertical-align: middle;\n",
       "    }\n",
       "\n",
       "    .dataframe tbody tr th {\n",
       "        vertical-align: top;\n",
       "    }\n",
       "\n",
       "    .dataframe thead th {\n",
       "        text-align: right;\n",
       "    }\n",
       "</style>\n",
       "<table border=\"1\" class=\"dataframe\">\n",
       "  <thead>\n",
       "    <tr style=\"text-align: right;\">\n",
       "      <th></th>\n",
       "      <th>new_cases_max</th>\n",
       "      <th>new_cases_mean</th>\n",
       "      <th>new_cases_sum</th>\n",
       "      <th>ratio</th>\n",
       "    </tr>\n",
       "    <tr>\n",
       "      <th>continent</th>\n",
       "      <th></th>\n",
       "      <th></th>\n",
       "      <th></th>\n",
       "      <th></th>\n",
       "    </tr>\n",
       "  </thead>\n",
       "  <tbody>\n",
       "    <tr>\n",
       "      <th>Africa</th>\n",
       "      <td>162987.0</td>\n",
       "      <td>150.304606</td>\n",
       "      <td>13141282.0</td>\n",
       "      <td>1.695602</td>\n",
       "    </tr>\n",
       "    <tr>\n",
       "      <th>Asia</th>\n",
       "      <td>40475477.0</td>\n",
       "      <td>4181.239490</td>\n",
       "      <td>301446461.0</td>\n",
       "      <td>38.895223</td>\n",
       "    </tr>\n",
       "    <tr>\n",
       "      <th>Europe</th>\n",
       "      <td>2417043.0</td>\n",
       "      <td>3257.736053</td>\n",
       "      <td>252376812.0</td>\n",
       "      <td>32.563833</td>\n",
       "    </tr>\n",
       "    <tr>\n",
       "      <th>North America</th>\n",
       "      <td>5650933.0</td>\n",
       "      <td>1989.688806</td>\n",
       "      <td>124530643.0</td>\n",
       "      <td>16.068018</td>\n",
       "    </tr>\n",
       "    <tr>\n",
       "      <th>Oceania</th>\n",
       "      <td>588813.0</td>\n",
       "      <td>402.253823</td>\n",
       "      <td>14808170.0</td>\n",
       "      <td>1.910678</td>\n",
       "    </tr>\n",
       "    <tr>\n",
       "      <th>South America</th>\n",
       "      <td>1283024.0</td>\n",
       "      <td>3199.927730</td>\n",
       "      <td>68718448.0</td>\n",
       "      <td>8.866647</td>\n",
       "    </tr>\n",
       "  </tbody>\n",
       "</table>\n",
       "</div>"
      ],
      "text/plain": [
       "               new_cases_max  new_cases_mean  new_cases_sum      ratio\n",
       "continent                                                             \n",
       "Africa              162987.0      150.304606     13141282.0   1.695602\n",
       "Asia              40475477.0     4181.239490    301446461.0  38.895223\n",
       "Europe             2417043.0     3257.736053    252376812.0  32.563833\n",
       "North America      5650933.0     1989.688806    124530643.0  16.068018\n",
       "Oceania             588813.0      402.253823     14808170.0   1.910678\n",
       "South America      1283024.0     3199.927730     68718448.0   8.866647"
      ]
     },
     "execution_count": 8,
     "metadata": {},
     "output_type": "execute_result"
    }
   ],
   "source": [
    "# Considerando solo i record con il continente.\n",
    "\n",
    "total_world_cases_with_continent = df.loc[~df[\"continent\"].isna(),\"new_cases\"].sum()\n",
    "total_world_cases_with_continent\n",
    "\n",
    "(df.loc[~df[\"continent\"].isna()]\n",
    " .groupby(\"continent\")\n",
    " .agg(new_cases_max = (\"new_cases\", \"max\"),\n",
    "      new_cases_mean = (\"new_cases\", \"mean\"),\n",
    "      new_cases_sum = (\"new_cases\", \"sum\"))\n",
    ").assign(ratio = lambda x: x[\"new_cases_sum\"] / total_world_cases_with_continent * 100)"
   ]
  },
  {
   "cell_type": "markdown",
   "id": "a8eefa00",
   "metadata": {},
   "source": [
    "## 3rd Request: Italy"
   ]
  },
  {
   "cell_type": "code",
   "execution_count": 9,
   "id": "08d5824b",
   "metadata": {},
   "outputs": [],
   "source": [
    "df_italy = df.loc[df[\"location\"] == \"Italy\"].reset_index(drop=True)"
   ]
  },
  {
   "cell_type": "code",
   "execution_count": 10,
   "id": "c87cf2ba",
   "metadata": {},
   "outputs": [
    {
     "name": "stderr",
     "output_type": "stream",
     "text": [
      "C:\\Users\\Andrea Bulanti\\anaconda3\\Lib\\site-packages\\seaborn\\_oldcore.py:1498: FutureWarning: is_categorical_dtype is deprecated and will be removed in a future version. Use isinstance(dtype, CategoricalDtype) instead\n",
      "  if pd.api.types.is_categorical_dtype(vector):\n",
      "C:\\Users\\Andrea Bulanti\\anaconda3\\Lib\\site-packages\\seaborn\\_oldcore.py:1498: FutureWarning: is_categorical_dtype is deprecated and will be removed in a future version. Use isinstance(dtype, CategoricalDtype) instead\n",
      "  if pd.api.types.is_categorical_dtype(vector):\n",
      "C:\\Users\\Andrea Bulanti\\anaconda3\\Lib\\site-packages\\seaborn\\_oldcore.py:1119: FutureWarning: use_inf_as_na option is deprecated and will be removed in a future version. Convert inf values to NaN before operating instead.\n",
      "  with pd.option_context('mode.use_inf_as_na', True):\n",
      "C:\\Users\\Andrea Bulanti\\anaconda3\\Lib\\site-packages\\seaborn\\_oldcore.py:1119: FutureWarning: use_inf_as_na option is deprecated and will be removed in a future version. Convert inf values to NaN before operating instead.\n",
      "  with pd.option_context('mode.use_inf_as_na', True):\n"
     ]
    },
    {
     "data": {
      "image/png": "[encoded data removed]",
      "text/plain": [
       "<Figure size 640x480 with 1 Axes>"
      ]
     },
     "metadata": {},
     "output_type": "display_data"
    }
   ],
   "source": [
    "# Rappresentazione dei casi totali\n",
    "\n",
    "mask = df_italy[\"date\"].dt.year == 2022\n",
    "\n",
    "sns.despine()\n",
    "sns.set_style(\"darkgrid\")\n",
    "grafico = sns.lineplot(data=df_italy[mask], x=\"date\", y=\"total_cases\")\n",
    "\n",
    "asse_y = grafico.axes.get_yaxis()\n",
    "\n",
    "# Impostiamo un formattatore per l'asse y\n",
    "asse_y.set_major_formatter(plt.FuncFormatter(lambda x, _: format(int(x), ',')))\n",
    "\n",
    "plt.title(\"Totale dei casi covid in Italia nel 2022\")\n",
    "\n",
    "# Mostriamo il grafico\n",
    "plt.show()"
   ]
  },
  {
   "cell_type": "code",
   "execution_count": 11,
   "id": "4a6b5d25",
   "metadata": {},
   "outputs": [
    {
     "name": "stderr",
     "output_type": "stream",
     "text": [
      "C:\\Users\\Andrea Bulanti\\anaconda3\\Lib\\site-packages\\seaborn\\_oldcore.py:1498: FutureWarning: is_categorical_dtype is deprecated and will be removed in a future version. Use isinstance(dtype, CategoricalDtype) instead\n",
      "  if pd.api.types.is_categorical_dtype(vector):\n",
      "C:\\Users\\Andrea Bulanti\\anaconda3\\Lib\\site-packages\\seaborn\\_oldcore.py:1498: FutureWarning: is_categorical_dtype is deprecated and will be removed in a future version. Use isinstance(dtype, CategoricalDtype) instead\n",
      "  if pd.api.types.is_categorical_dtype(vector):\n",
      "C:\\Users\\Andrea Bulanti\\anaconda3\\Lib\\site-packages\\seaborn\\_oldcore.py:1119: FutureWarning: use_inf_as_na option is deprecated and will be removed in a future version. Convert inf values to NaN before operating instead.\n",
      "  with pd.option_context('mode.use_inf_as_na', True):\n",
      "C:\\Users\\Andrea Bulanti\\anaconda3\\Lib\\site-packages\\seaborn\\_oldcore.py:1119: FutureWarning: use_inf_as_na option is deprecated and will be removed in a future version. Convert inf values to NaN before operating instead.\n",
      "  with pd.option_context('mode.use_inf_as_na', True):\n"
     ]
    },
    {
     "data": {
      "image/png": "[encoded data removed]",
      "text/plain": [
       "<Figure size 640x480 with 1 Axes>"
      ]
     },
     "metadata": {},
     "output_type": "display_data"
    }
   ],
   "source": [
    "# Mostro i nuovi casi del 2023 rispetto alla data\n",
    "# Ho pensato di raggruppare la media dei nuovi casi con resample mensile dal 12-2022 al 12-2023\n",
    "\n",
    "df_italy_resampled = df_italy.set_index(\"date\").resample(\"M\")[[\"new_cases\"]].mean().loc[\"12-2022\" : \"12-2023\"]\n",
    "grafico2 = sns.lineplot(data=df_italy_resampled, x=df_italy_resampled.index, y=\"new_cases\")\n",
    "\n",
    "asse_y = grafico2.axes.get_yaxis()\n",
    "\n",
    "# Impostiamo un formattatore per l'asse y\n",
    "asse_y.set_major_formatter(plt.FuncFormatter(lambda x, _: format(int(x), ',')))\n",
    "\n",
    "plt.title(\"Andamento dei nuovi casi COVID dal 12-2022 al 12-2023 in Italia\")\n",
    "\n",
    "# Mostriamo il grafico\n",
    "plt.show()"
   ]
  },
  {
   "cell_type": "code",
   "execution_count": 12,
   "id": "4d85ea30",
   "metadata": {},
   "outputs": [
    {
     "data": {
      "text/html": [
       "<div>\n",
       "<style scoped>\n",
       "    .dataframe tbody tr th:only-of-type {\n",
       "        vertical-align: middle;\n",
       "    }\n",
       "\n",
       "    .dataframe tbody tr th {\n",
       "        vertical-align: top;\n",
       "    }\n",
       "\n",
       "    .dataframe thead th {\n",
       "        text-align: right;\n",
       "    }\n",
       "</style>\n",
       "<table border=\"1\" class=\"dataframe\">\n",
       "  <thead>\n",
       "    <tr style=\"text-align: right;\">\n",
       "      <th></th>\n",
       "      <th>new_cases</th>\n",
       "    </tr>\n",
       "    <tr>\n",
       "      <th>date</th>\n",
       "      <th></th>\n",
       "    </tr>\n",
       "  </thead>\n",
       "  <tbody>\n",
       "    <tr>\n",
       "      <th>2022-12-31</th>\n",
       "      <td>23639.967742</td>\n",
       "    </tr>\n",
       "    <tr>\n",
       "      <th>2023-01-31</th>\n",
       "      <td>13041.838710</td>\n",
       "    </tr>\n",
       "    <tr>\n",
       "      <th>2023-02-28</th>\n",
       "      <td>4298.571429</td>\n",
       "    </tr>\n",
       "    <tr>\n",
       "      <th>2023-03-31</th>\n",
       "      <td>3064.129032</td>\n",
       "    </tr>\n",
       "    <tr>\n",
       "      <th>2023-04-30</th>\n",
       "      <td>3845.366667</td>\n",
       "    </tr>\n",
       "    <tr>\n",
       "      <th>2023-05-31</th>\n",
       "      <td>2138.806452</td>\n",
       "    </tr>\n",
       "    <tr>\n",
       "      <th>2023-06-30</th>\n",
       "      <td>1090.200000</td>\n",
       "    </tr>\n",
       "    <tr>\n",
       "      <th>2023-07-31</th>\n",
       "      <td>623.354839</td>\n",
       "    </tr>\n",
       "    <tr>\n",
       "      <th>2023-08-31</th>\n",
       "      <td>1066.516129</td>\n",
       "    </tr>\n",
       "    <tr>\n",
       "      <th>2023-09-30</th>\n",
       "      <td>3803.133333</td>\n",
       "    </tr>\n",
       "    <tr>\n",
       "      <th>2023-10-31</th>\n",
       "      <td>5870.774194</td>\n",
       "    </tr>\n",
       "    <tr>\n",
       "      <th>2023-11-30</th>\n",
       "      <td>4929.066667</td>\n",
       "    </tr>\n",
       "    <tr>\n",
       "      <th>2023-12-31</th>\n",
       "      <td>8735.935484</td>\n",
       "    </tr>\n",
       "  </tbody>\n",
       "</table>\n",
       "</div>"
      ],
      "text/plain": [
       "               new_cases\n",
       "date                    \n",
       "2022-12-31  23639.967742\n",
       "2023-01-31  13041.838710\n",
       "2023-02-28   4298.571429\n",
       "2023-03-31   3064.129032\n",
       "2023-04-30   3845.366667\n",
       "2023-05-31   2138.806452\n",
       "2023-06-30   1090.200000\n",
       "2023-07-31    623.354839\n",
       "2023-08-31   1066.516129\n",
       "2023-09-30   3803.133333\n",
       "2023-10-31   5870.774194\n",
       "2023-11-30   4929.066667\n",
       "2023-12-31   8735.935484"
      ]
     },
     "execution_count": 12,
     "metadata": {},
     "output_type": "execute_result"
    }
   ],
   "source": [
    "# Questo è il dataframe plottato\n",
    "df_italy_resampled"
   ]
  },
  {
   "cell_type": "code",
   "execution_count": 13,
   "id": "a0fb7c8b",
   "metadata": {},
   "outputs": [
    {
     "name": "stderr",
     "output_type": "stream",
     "text": [
      "C:\\Users\\Andrea Bulanti\\anaconda3\\Lib\\site-packages\\seaborn\\_oldcore.py:1498: FutureWarning: is_categorical_dtype is deprecated and will be removed in a future version. Use isinstance(dtype, CategoricalDtype) instead\n",
      "  if pd.api.types.is_categorical_dtype(vector):\n",
      "C:\\Users\\Andrea Bulanti\\anaconda3\\Lib\\site-packages\\seaborn\\_oldcore.py:1498: FutureWarning: is_categorical_dtype is deprecated and will be removed in a future version. Use isinstance(dtype, CategoricalDtype) instead\n",
      "  if pd.api.types.is_categorical_dtype(vector):\n",
      "C:\\Users\\Andrea Bulanti\\anaconda3\\Lib\\site-packages\\seaborn\\_oldcore.py:1119: FutureWarning: use_inf_as_na option is deprecated and will be removed in a future version. Convert inf values to NaN before operating instead.\n",
      "  with pd.option_context('mode.use_inf_as_na', True):\n",
      "C:\\Users\\Andrea Bulanti\\anaconda3\\Lib\\site-packages\\seaborn\\_oldcore.py:1119: FutureWarning: use_inf_as_na option is deprecated and will be removed in a future version. Convert inf values to NaN before operating instead.\n",
      "  with pd.option_context('mode.use_inf_as_na', True):\n"
     ]
    },
    {
     "data": {
      "text/plain": [
       "<matplotlib.legend.Legend at 0x1c43e683a90>"
      ]
     },
     "execution_count": 13,
     "metadata": {},
     "output_type": "execute_result"
    },
    {
     "data": {
      "image/png": "[encoded data removed]",
      "text/plain": [
       "<Figure size 2000x1000 with 1 Axes>"
      ]
     },
     "metadata": {},
     "output_type": "display_data"
    }
   ],
   "source": [
    "# RT sui nuovi casi nel 2022\n",
    "\n",
    "df_italy22nc = df_italy.loc[mask, [\"date\", \"new_cases\"]].set_index(\"date\")\n",
    "df_italy22nc['running_total'] = df_italy22nc['new_cases'].cumsum()\n",
    "\n",
    "fig, axes = plt.subplots(figsize = (20,10))\n",
    "\n",
    "axes.plot(df_italy22nc.index, df_italy22nc[\"running_total\"], color=\"green\", label = \"2022 - RT\")\n",
    "sns.lineplot(data=df_italy[mask], x=\"date\", y=\"total_cases\", ax=axes, label=\"2022 TOTAL CASES\")\n",
    "asse_y = axes.axes.get_yaxis()\n",
    "asse_y.set_major_formatter(plt.FuncFormatter(lambda x, _: format(int(x), ',')))\n",
    "\n",
    "plt.title(\"Confronto fra il Running Total dei nuovi casi del 2022 e il totale dei positivi in Italia \")\n",
    "\n",
    "axes.legend(loc=\"upper left\")\n",
    "\n",
    "# Entrambi i grafici evidenziano il medesimo incremento dei positivi "
   ]
  },
  {
   "cell_type": "markdown",
   "id": "6d339851",
   "metadata": {},
   "source": [
    "## 4th Request: BoxPlot Italia/Germania/Francia"
   ]
  },
  {
   "cell_type": "code",
   "execution_count": 14,
   "id": "c3f4fa0f",
   "metadata": {},
   "outputs": [],
   "source": [
    "countries = [\"Italy\", \"Germany\", \"France\"]\n",
    "df_itfrge = df.set_index(\"date\", drop=True).query(\"location in @countries\").sort_index().loc[\"2022-05\":\"2023-04\"]\n"
   ]
  },
  {
   "cell_type": "code",
   "execution_count": 15,
   "id": "eadd6ce4",
   "metadata": {},
   "outputs": [
    {
     "data": {
      "text/html": [
       "<div>\n",
       "<style scoped>\n",
       "    .dataframe tbody tr th:only-of-type {\n",
       "        vertical-align: middle;\n",
       "    }\n",
       "\n",
       "    .dataframe tbody tr th {\n",
       "        vertical-align: top;\n",
       "    }\n",
       "\n",
       "    .dataframe thead th {\n",
       "        text-align: right;\n",
       "    }\n",
       "</style>\n",
       "<table border=\"1\" class=\"dataframe\">\n",
       "  <thead>\n",
       "    <tr style=\"text-align: right;\">\n",
       "      <th></th>\n",
       "      <th>continent</th>\n",
       "      <th>location</th>\n",
       "      <th>total_cases</th>\n",
       "      <th>new_cases</th>\n",
       "      <th>icu_patients</th>\n",
       "      <th>hosp_patients</th>\n",
       "    </tr>\n",
       "    <tr>\n",
       "      <th>date</th>\n",
       "      <th></th>\n",
       "      <th></th>\n",
       "      <th></th>\n",
       "      <th></th>\n",
       "      <th></th>\n",
       "      <th></th>\n",
       "    </tr>\n",
       "  </thead>\n",
       "  <tbody>\n",
       "    <tr>\n",
       "      <th>2022-05-01</th>\n",
       "      <td>Europe</td>\n",
       "      <td>France</td>\n",
       "      <td>27742592.0</td>\n",
       "      <td>376510.0</td>\n",
       "      <td>1557.0</td>\n",
       "      <td>23327.0</td>\n",
       "    </tr>\n",
       "    <tr>\n",
       "      <th>2022-05-01</th>\n",
       "      <td>Europe</td>\n",
       "      <td>Germany</td>\n",
       "      <td>24953200.0</td>\n",
       "      <td>596917.0</td>\n",
       "      <td>1337.0</td>\n",
       "      <td>NaN</td>\n",
       "    </tr>\n",
       "    <tr>\n",
       "      <th>2022-05-01</th>\n",
       "      <td>Europe</td>\n",
       "      <td>Italy</td>\n",
       "      <td>16463200.0</td>\n",
       "      <td>383991.0</td>\n",
       "      <td>366.0</td>\n",
       "      <td>10104.0</td>\n",
       "    </tr>\n",
       "    <tr>\n",
       "      <th>2022-05-02</th>\n",
       "      <td>Europe</td>\n",
       "      <td>France</td>\n",
       "      <td>27742592.0</td>\n",
       "      <td>0.0</td>\n",
       "      <td>1511.0</td>\n",
       "      <td>23211.0</td>\n",
       "    </tr>\n",
       "    <tr>\n",
       "      <th>2022-05-02</th>\n",
       "      <td>Europe</td>\n",
       "      <td>Italy</td>\n",
       "      <td>16463200.0</td>\n",
       "      <td>0.0</td>\n",
       "      <td>368.0</td>\n",
       "      <td>10162.0</td>\n",
       "    </tr>\n",
       "  </tbody>\n",
       "</table>\n",
       "</div>"
      ],
      "text/plain": [
       "           continent location  total_cases  new_cases  icu_patients  \\\n",
       "date                                                                  \n",
       "2022-05-01    Europe   France   27742592.0   376510.0        1557.0   \n",
       "2022-05-01    Europe  Germany   24953200.0   596917.0        1337.0   \n",
       "2022-05-01    Europe    Italy   16463200.0   383991.0         366.0   \n",
       "2022-05-02    Europe   France   27742592.0        0.0        1511.0   \n",
       "2022-05-02    Europe    Italy   16463200.0        0.0         368.0   \n",
       "\n",
       "            hosp_patients  \n",
       "date                       \n",
       "2022-05-01        23327.0  \n",
       "2022-05-01            NaN  \n",
       "2022-05-01        10104.0  \n",
       "2022-05-02        23211.0  \n",
       "2022-05-02        10162.0  "
      ]
     },
     "execution_count": 15,
     "metadata": {},
     "output_type": "execute_result"
    }
   ],
   "source": [
    "df_itfrge.head()"
   ]
  },
  {
   "cell_type": "code",
   "execution_count": 16,
   "id": "49a29eb7",
   "metadata": {},
   "outputs": [
    {
     "data": {
      "text/html": [
       "<div>\n",
       "<style scoped>\n",
       "    .dataframe tbody tr th:only-of-type {\n",
       "        vertical-align: middle;\n",
       "    }\n",
       "\n",
       "    .dataframe tbody tr th {\n",
       "        vertical-align: top;\n",
       "    }\n",
       "\n",
       "    .dataframe thead th {\n",
       "        text-align: right;\n",
       "    }\n",
       "</style>\n",
       "<table border=\"1\" class=\"dataframe\">\n",
       "  <thead>\n",
       "    <tr style=\"text-align: right;\">\n",
       "      <th></th>\n",
       "      <th>continent</th>\n",
       "      <th>location</th>\n",
       "      <th>total_cases</th>\n",
       "      <th>new_cases</th>\n",
       "      <th>icu_patients</th>\n",
       "      <th>hosp_patients</th>\n",
       "    </tr>\n",
       "    <tr>\n",
       "      <th>date</th>\n",
       "      <th></th>\n",
       "      <th></th>\n",
       "      <th></th>\n",
       "      <th></th>\n",
       "      <th></th>\n",
       "      <th></th>\n",
       "    </tr>\n",
       "  </thead>\n",
       "  <tbody>\n",
       "    <tr>\n",
       "      <th>2023-04-29</th>\n",
       "      <td>Europe</td>\n",
       "      <td>Germany</td>\n",
       "      <td>38396064.0</td>\n",
       "      <td>0.0</td>\n",
       "      <td>516.0</td>\n",
       "      <td>NaN</td>\n",
       "    </tr>\n",
       "    <tr>\n",
       "      <th>2023-04-29</th>\n",
       "      <td>Europe</td>\n",
       "      <td>Italy</td>\n",
       "      <td>25772459.0</td>\n",
       "      <td>0.0</td>\n",
       "      <td>111.0</td>\n",
       "      <td>3045.0</td>\n",
       "    </tr>\n",
       "    <tr>\n",
       "      <th>2023-04-30</th>\n",
       "      <td>Europe</td>\n",
       "      <td>Germany</td>\n",
       "      <td>38405257.0</td>\n",
       "      <td>9193.0</td>\n",
       "      <td>512.0</td>\n",
       "      <td>NaN</td>\n",
       "    </tr>\n",
       "    <tr>\n",
       "      <th>2023-04-30</th>\n",
       "      <td>Europe</td>\n",
       "      <td>Italy</td>\n",
       "      <td>25795509.0</td>\n",
       "      <td>23050.0</td>\n",
       "      <td>103.0</td>\n",
       "      <td>2977.0</td>\n",
       "    </tr>\n",
       "    <tr>\n",
       "      <th>2023-04-30</th>\n",
       "      <td>Europe</td>\n",
       "      <td>France</td>\n",
       "      <td>38842584.0</td>\n",
       "      <td>40443.0</td>\n",
       "      <td>NaN</td>\n",
       "      <td>NaN</td>\n",
       "    </tr>\n",
       "  </tbody>\n",
       "</table>\n",
       "</div>"
      ],
      "text/plain": [
       "           continent location  total_cases  new_cases  icu_patients  \\\n",
       "date                                                                  \n",
       "2023-04-29    Europe  Germany   38396064.0        0.0         516.0   \n",
       "2023-04-29    Europe    Italy   25772459.0        0.0         111.0   \n",
       "2023-04-30    Europe  Germany   38405257.0     9193.0         512.0   \n",
       "2023-04-30    Europe    Italy   25795509.0    23050.0         103.0   \n",
       "2023-04-30    Europe   France   38842584.0    40443.0           NaN   \n",
       "\n",
       "            hosp_patients  \n",
       "date                       \n",
       "2023-04-29            NaN  \n",
       "2023-04-29         3045.0  \n",
       "2023-04-30            NaN  \n",
       "2023-04-30         2977.0  \n",
       "2023-04-30            NaN  "
      ]
     },
     "execution_count": 16,
     "metadata": {},
     "output_type": "execute_result"
    }
   ],
   "source": [
    "df_itfrge.tail()"
   ]
  },
  {
   "cell_type": "code",
   "execution_count": 17,
   "id": "b1beba0d",
   "metadata": {},
   "outputs": [
    {
     "name": "stderr",
     "output_type": "stream",
     "text": [
      "C:\\Users\\Andrea Bulanti\\anaconda3\\Lib\\site-packages\\seaborn\\_oldcore.py:1498: FutureWarning: is_categorical_dtype is deprecated and will be removed in a future version. Use isinstance(dtype, CategoricalDtype) instead\n",
      "  if pd.api.types.is_categorical_dtype(vector):\n",
      "C:\\Users\\Andrea Bulanti\\anaconda3\\Lib\\site-packages\\seaborn\\_oldcore.py:1498: FutureWarning: is_categorical_dtype is deprecated and will be removed in a future version. Use isinstance(dtype, CategoricalDtype) instead\n",
      "  if pd.api.types.is_categorical_dtype(vector):\n",
      "C:\\Users\\Andrea Bulanti\\anaconda3\\Lib\\site-packages\\seaborn\\_oldcore.py:1498: FutureWarning: is_categorical_dtype is deprecated and will be removed in a future version. Use isinstance(dtype, CategoricalDtype) instead\n",
      "  if pd.api.types.is_categorical_dtype(vector):\n"
     ]
    },
    {
     "data": {
      "text/plain": [
       "<Axes: xlabel='location', ylabel='icu_patients'>"
      ]
     },
     "execution_count": 17,
     "metadata": {},
     "output_type": "execute_result"
    },
    {
     "data": {
      "image/png": "[encoded data removed]",
      "text/plain": [
       "<Figure size 640x480 with 1 Axes>"
      ]
     },
     "metadata": {},
     "output_type": "display_data"
    }
   ],
   "source": [
    "sns.boxplot(data=df_itfrge, x=\"location\", y=\"icu_patients\", palette=\"viridis\")\n",
    "\n",
    "# In Italia le media dei pazienti in terapia intesiva, per il periodo preso in esame, si aggira attorno ai 250 pazienti.\n",
    "# In Francia e Germania il valore è molto più alto, circa 1000 pazienti, considerando tuttavia che la popolazione di\n",
    "# queste due nazioni è maggiore rispetto a quella dell' Italia.\n",
    "\n",
    "# Le densità dei valori in Germania è più ampia rispetto alla Francia, con un q25 attorno ai 750 pazienti e un q75 attorno ai 1250.\n",
    "# La mediana si avvicina ai 1000 pazienti in terapia intensiva al giorno."
   ]
  },
  {
   "cell_type": "markdown",
   "id": "98aa77a7",
   "metadata": {},
   "source": [
    "## 5th Request: Italia/Germania/Francia/Spagna 2023"
   ]
  },
  {
   "cell_type": "code",
   "execution_count": 18,
   "id": "2c79edb7",
   "metadata": {},
   "outputs": [],
   "source": [
    "countries2 = [\"Italy\", \"Germany\", \"France\", \"Spain\"]\n",
    "df_itfrge2023 = df.set_index(\"date\", drop=True).query(\"location in @countries2\").loc[\"2023\", [\"location\", \"hosp_patients\"]]"
   ]
  },
  {
   "cell_type": "code",
   "execution_count": 19,
   "id": "ab04e9de",
   "metadata": {},
   "outputs": [
    {
     "data": {
      "text/html": [
       "<div>\n",
       "<style scoped>\n",
       "    .dataframe tbody tr th:only-of-type {\n",
       "        vertical-align: middle;\n",
       "    }\n",
       "\n",
       "    .dataframe tbody tr th {\n",
       "        vertical-align: top;\n",
       "    }\n",
       "\n",
       "    .dataframe thead th {\n",
       "        text-align: right;\n",
       "    }\n",
       "</style>\n",
       "<table border=\"1\" class=\"dataframe\">\n",
       "  <thead>\n",
       "    <tr style=\"text-align: right;\">\n",
       "      <th></th>\n",
       "      <th>location</th>\n",
       "      <th>hosp_patients</th>\n",
       "    </tr>\n",
       "    <tr>\n",
       "      <th>date</th>\n",
       "      <th></th>\n",
       "      <th></th>\n",
       "    </tr>\n",
       "  </thead>\n",
       "  <tbody>\n",
       "    <tr>\n",
       "      <th>2023-05-30</th>\n",
       "      <td>Spain</td>\n",
       "      <td>2283.0</td>\n",
       "    </tr>\n",
       "    <tr>\n",
       "      <th>2023-05-31</th>\n",
       "      <td>Spain</td>\n",
       "      <td>2217.0</td>\n",
       "    </tr>\n",
       "    <tr>\n",
       "      <th>2023-06-01</th>\n",
       "      <td>Spain</td>\n",
       "      <td>2189.0</td>\n",
       "    </tr>\n",
       "    <tr>\n",
       "      <th>2023-06-02</th>\n",
       "      <td>Spain</td>\n",
       "      <td>2185.0</td>\n",
       "    </tr>\n",
       "    <tr>\n",
       "      <th>2023-06-03</th>\n",
       "      <td>Spain</td>\n",
       "      <td>2259.0</td>\n",
       "    </tr>\n",
       "    <tr>\n",
       "      <th>...</th>\n",
       "      <td>...</td>\n",
       "      <td>...</td>\n",
       "    </tr>\n",
       "    <tr>\n",
       "      <th>2023-07-27</th>\n",
       "      <td>Spain</td>\n",
       "      <td>NaN</td>\n",
       "    </tr>\n",
       "    <tr>\n",
       "      <th>2023-07-28</th>\n",
       "      <td>Spain</td>\n",
       "      <td>NaN</td>\n",
       "    </tr>\n",
       "    <tr>\n",
       "      <th>2023-07-29</th>\n",
       "      <td>Spain</td>\n",
       "      <td>NaN</td>\n",
       "    </tr>\n",
       "    <tr>\n",
       "      <th>2023-07-30</th>\n",
       "      <td>Spain</td>\n",
       "      <td>NaN</td>\n",
       "    </tr>\n",
       "    <tr>\n",
       "      <th>2023-07-31</th>\n",
       "      <td>Spain</td>\n",
       "      <td>NaN</td>\n",
       "    </tr>\n",
       "  </tbody>\n",
       "</table>\n",
       "<p>63 rows × 2 columns</p>\n",
       "</div>"
      ],
      "text/plain": [
       "           location  hosp_patients\n",
       "date                              \n",
       "2023-05-30    Spain         2283.0\n",
       "2023-05-31    Spain         2217.0\n",
       "2023-06-01    Spain         2189.0\n",
       "2023-06-02    Spain         2185.0\n",
       "2023-06-03    Spain         2259.0\n",
       "...             ...            ...\n",
       "2023-07-27    Spain            NaN\n",
       "2023-07-28    Spain            NaN\n",
       "2023-07-29    Spain            NaN\n",
       "2023-07-30    Spain            NaN\n",
       "2023-07-31    Spain            NaN\n",
       "\n",
       "[63 rows x 2 columns]"
      ]
     },
     "execution_count": 19,
     "metadata": {},
     "output_type": "execute_result"
    }
   ],
   "source": [
    "df_itfrge2023.loc[df_itfrge2023[\"location\"]==\"Spain\"].loc[\"2023-05-30\":\"2023-07-31\"]"
   ]
  },
  {
   "cell_type": "code",
   "execution_count": 20,
   "id": "7b1778d1",
   "metadata": {},
   "outputs": [
    {
     "data": {
      "text/html": [
       "<div>\n",
       "<style scoped>\n",
       "    .dataframe tbody tr th:only-of-type {\n",
       "        vertical-align: middle;\n",
       "    }\n",
       "\n",
       "    .dataframe tbody tr th {\n",
       "        vertical-align: top;\n",
       "    }\n",
       "\n",
       "    .dataframe thead th {\n",
       "        text-align: right;\n",
       "    }\n",
       "</style>\n",
       "<table border=\"1\" class=\"dataframe\">\n",
       "  <thead>\n",
       "    <tr style=\"text-align: right;\">\n",
       "      <th></th>\n",
       "      <th>hosp_patients</th>\n",
       "    </tr>\n",
       "    <tr>\n",
       "      <th>location</th>\n",
       "      <th></th>\n",
       "    </tr>\n",
       "  </thead>\n",
       "  <tbody>\n",
       "    <tr>\n",
       "      <th>France</th>\n",
       "      <td>1382574.0</td>\n",
       "    </tr>\n",
       "    <tr>\n",
       "      <th>Germany</th>\n",
       "      <td>0.0</td>\n",
       "    </tr>\n",
       "    <tr>\n",
       "      <th>Italy</th>\n",
       "      <td>1175272.0</td>\n",
       "    </tr>\n",
       "    <tr>\n",
       "      <th>Spain</th>\n",
       "      <td>354602.0</td>\n",
       "    </tr>\n",
       "  </tbody>\n",
       "</table>\n",
       "</div>"
      ],
      "text/plain": [
       "          hosp_patients\n",
       "location               \n",
       "France        1382574.0\n",
       "Germany             0.0\n",
       "Italy         1175272.0\n",
       "Spain          354602.0"
      ]
     },
     "execution_count": 20,
     "metadata": {},
     "output_type": "execute_result"
    }
   ],
   "source": [
    "df_itfrge2023.groupby(\"location\")[[\"hosp_patients\"]].sum()"
   ]
  },
  {
   "cell_type": "code",
   "execution_count": 21,
   "id": "18b0d7fd",
   "metadata": {},
   "outputs": [
    {
     "name": "stderr",
     "output_type": "stream",
     "text": [
      "C:\\Users\\Andrea Bulanti\\anaconda3\\Lib\\site-packages\\seaborn\\_oldcore.py:1498: FutureWarning: is_categorical_dtype is deprecated and will be removed in a future version. Use isinstance(dtype, CategoricalDtype) instead\n",
      "  if pd.api.types.is_categorical_dtype(vector):\n",
      "C:\\Users\\Andrea Bulanti\\anaconda3\\Lib\\site-packages\\seaborn\\_oldcore.py:1498: FutureWarning: is_categorical_dtype is deprecated and will be removed in a future version. Use isinstance(dtype, CategoricalDtype) instead\n",
      "  if pd.api.types.is_categorical_dtype(vector):\n",
      "C:\\Users\\Andrea Bulanti\\anaconda3\\Lib\\site-packages\\seaborn\\_oldcore.py:1498: FutureWarning: is_categorical_dtype is deprecated and will be removed in a future version. Use isinstance(dtype, CategoricalDtype) instead\n",
      "  if pd.api.types.is_categorical_dtype(vector):\n"
     ]
    },
    {
     "data": {
      "image/png": "[encoded data removed]",
      "text/plain": [
       "<Figure size 640x480 with 1 Axes>"
      ]
     },
     "metadata": {},
     "output_type": "display_data"
    }
   ],
   "source": [
    "#Rappresento i dati anche con un grafico a barre\n",
    "from matplotlib import ticker\n",
    "fig, ax = plt.subplots()\n",
    "\n",
    "sns.barplot(data=df_itfrge2023,x=\"location\",y=\"hosp_patients\",estimator=\"sum\", palette=\"Pastel2\", errorbar=None)\n",
    "ax.yaxis.set_major_formatter(ticker.FuncFormatter(lambda x, pos: '{:,.2f}'.format(x/1000) + 'K'))\n"
   ]
  },
  {
   "cell_type": "code",
   "execution_count": 22,
   "id": "81143129",
   "metadata": {},
   "outputs": [
    {
     "data": {
      "text/plain": [
       "hosp_patients\n",
       "NaN    365\n",
       "Name: count, dtype: int64"
      ]
     },
     "execution_count": 22,
     "metadata": {},
     "output_type": "execute_result"
    }
   ],
   "source": [
    "#In Germania i dati al 2023 sono assenti:\n",
    "\n",
    "df_itfrge2023.loc[df_itfrge2023[\"location\"]==\"Germany\"][\"hosp_patients\"].value_counts(dropna=False)"
   ]
  },
  {
   "cell_type": "markdown",
   "id": "afd01bdc",
   "metadata": {},
   "source": [
    "In una situazione simile cercare di rimpiazzare i dati con la media con con tecniche di interpolazione (ffill, bfill, interpolation) non sarebbe corretto in quanto i dati che mancano sono davvero troppi.\n",
    "L'ideale sarebbe consultare degli esperti di dominio per andare a fondo circa la questione."
   ]
  },
  {
   "cell_type": "code",
   "execution_count": null,
   "id": "f11061bf",
   "metadata": {},
   "outputs": [],
   "source": []
  }
 ],
 "metadata": {
  "kernelspec": {
   "display_name": "Python 3 (ipykernel)",
   "language": "python",
   "name": "python3"
  },
  "language_info": {
   "codemirror_mode": {
    "name": "ipython",
    "version": 3
   },
   "file_extension": ".py",
   "mimetype": "text/x-python",
   "name": "python",
   "nbconvert_exporter": "python",
   "pygments_lexer": "ipython3",
   "version": "3.11.5"
  }
 },
 "nbformat": 4,
 "nbformat_minor": 5
}
