{
 "cells": [
  {
   "cell_type": "markdown",
   "id": "75f4e430",
   "metadata": {},
   "source": [
    "## LIBRERIE ESTERNE, LIBRERIE STANDARD, NUMPY, PANDAS"
   ]
  },
  {
   "cell_type": "code",
   "execution_count": 11,
   "id": "37da4006",
   "metadata": {},
   "outputs": [],
   "source": [
    "import numpy as np\n",
    "import pandas as pd\n",
    "import math"
   ]
  },
  {
   "cell_type": "code",
   "execution_count": 12,
   "id": "a8d8b699",
   "metadata": {},
   "outputs": [
    {
     "data": {
      "text/plain": [
       "array([[ 0,  1,  2,  3,  4],\n",
       "       [ 5,  6,  7,  8,  9],\n",
       "       [10, 11, 12, 13, 14]])"
      ]
     },
     "execution_count": 12,
     "metadata": {},
     "output_type": "execute_result"
    }
   ],
   "source": [
    "# Abbiamo una lista di liste.\n",
    "# Che tipo di struttura dati o matematica potrebbe rappresentare? \n",
    "# Notare che tutte le liste \"interne\" sono della stessa dimensione Come facciamo per accedere ad un elemento in particolare?\n",
    "\n",
    "mat = [[0, 1, 2, 3, 4], [5, 6, 7, 8, 9], [10, 11, 12, 13, 14]]\n",
    "mat_array = np.array(mat)\n",
    "mat_array\n",
    "\n",
    "#2darray composto da 3 righe e 5 colonne"
   ]
  },
  {
   "cell_type": "code",
   "execution_count": 13,
   "id": "c906e386",
   "metadata": {},
   "outputs": [
    {
     "data": {
      "text/plain": [
       "(3, 5)"
      ]
     },
     "execution_count": 13,
     "metadata": {},
     "output_type": "execute_result"
    }
   ],
   "source": [
    "#shape\n",
    "mat_array.shape"
   ]
  },
  {
   "cell_type": "code",
   "execution_count": 14,
   "id": "ab85c3a4",
   "metadata": {},
   "outputs": [
    {
     "data": {
      "text/plain": [
       "array([0, 1, 2, 3, 4])"
      ]
     },
     "execution_count": 14,
     "metadata": {},
     "output_type": "execute_result"
    }
   ],
   "source": [
    "#accesso alla prima riga\n",
    "mat_array[0,:]"
   ]
  },
  {
   "cell_type": "code",
   "execution_count": 15,
   "id": "dba8c0e4",
   "metadata": {},
   "outputs": [
    {
     "data": {
      "text/plain": [
       "array([[ 5,  6,  7,  8,  9],\n",
       "       [10, 11, 12, 13, 14]])"
      ]
     },
     "execution_count": 15,
     "metadata": {},
     "output_type": "execute_result"
    }
   ],
   "source": [
    "#accesso alle ultime due righe\n",
    "mat_array[-2:,:]"
   ]
  },
  {
   "cell_type": "code",
   "execution_count": 16,
   "id": "2599e549",
   "metadata": {},
   "outputs": [
    {
     "data": {
      "text/plain": [
       "array([ 0,  5, 10])"
      ]
     },
     "execution_count": 16,
     "metadata": {},
     "output_type": "execute_result"
    }
   ],
   "source": [
    "#accesso ad una singola colonna\n",
    "mat_array[:,0]"
   ]
  },
  {
   "cell_type": "code",
   "execution_count": 17,
   "id": "34bd1578",
   "metadata": {},
   "outputs": [
    {
     "data": {
      "text/plain": [
       "1"
      ]
     },
     "execution_count": 17,
     "metadata": {},
     "output_type": "execute_result"
    }
   ],
   "source": [
    "#accesso a un singolo valore\n",
    "mat_array[0,1]"
   ]
  },
  {
   "cell_type": "code",
   "execution_count": 28,
   "id": "6533d624",
   "metadata": {},
   "outputs": [
    {
     "name": "stdout",
     "output_type": "stream",
     "text": [
      "0.6502878401571168 - 0.9912028118634736 - 6 - 3.141592653589793\n"
     ]
    }
   ],
   "source": [
    "# Importiamo il modulo math e proviamo a usare le funzioni .sin() .cos() .factorial() e la variabile .pi la riconoscete?\n",
    "print(math.sin(15), \"-\", math.cos(25), \"-\", math.factorial(3), \"-\", math.pi ) #pi è il pigreco"
   ]
  },
  {
   "cell_type": "code",
   "execution_count": 30,
   "id": "4335c912",
   "metadata": {},
   "outputs": [
    {
     "data": {
      "text/plain": [
       "180.0"
      ]
     },
     "execution_count": 30,
     "metadata": {},
     "output_type": "execute_result"
    }
   ],
   "source": [
    "# Proviamo a eseguire math.degrees(math.pi) \n",
    "# Qual è e cosa significa il risultato? Per saperne di più su questa funzione possiamo usare help(math.degrees)\n",
    "\n",
    "math.degrees(math.pi) #Convert angles from radians to degrees"
   ]
  },
  {
   "cell_type": "code",
   "execution_count": 52,
   "id": "ab64b82b",
   "metadata": {},
   "outputs": [
    {
     "name": "stdout",
     "output_type": "stream",
     "text": [
      "Vendita massima: 8150\n",
      "Vendite > di 4999: [5500 7200 6410 8150 7100 5350] Numero vendite: 6\n",
      "Vendite > di 3000: [2000 1280 1900 2500]\n",
      "Vendite medie: 4634.17\n"
     ]
    }
   ],
   "source": [
    "# L'azienda Object SpA ha creato una lista di quanti oggetti ha venduto ogni mese nell'ultimo anno:\n",
    "# lst = [2000, 5500, 7200, 4320, 1280, 1900, 2500, 3900, 6410, 8150, 7100, 5350]\n",
    "# trasformiamola in un array NumPy (casting):\n",
    "\n",
    "lst = np.array([2000, 5500, 7200, 4320, 1280, 1900, 2500, 3900, 6410, 8150, 7100, 5350])\n",
    "max_sales = lst.max()\n",
    "sales_4999 = lst[lst > 4999]\n",
    "sales_3000 = lst[lst < 3000]\n",
    "avg_sales = lst.mean()\n",
    "\n",
    "print(\"Vendita massima:\", max_sales)\n",
    "print(\"Vendite > di 4999:\", sales_4999, \"Numero vendite:\", len(sales_4999))\n",
    "print(\"Vendite > di 3000:\", sales_3000)\n",
    "print(\"Vendite medie:\", round(avg_sales,2))"
   ]
  },
  {
   "cell_type": "code",
   "execution_count": 53,
   "id": "43a21e84",
   "metadata": {},
   "outputs": [],
   "source": [
    "# Dunque qual è la differenza tra i due tipi di dato? Cosa potremmo fare con la Series che non possiamo fare con il dizionario?\n",
    "fatturati_dict = {1997: 12_000, 1998: 15_000, 1999: 20_000, 2000: 23_000, 2001: 25_000, 2002: 17_000, 2003: 14_000, 2004: 21_000}\n",
    "fatturati_series = pd.Series([12_000, 15_000, 20_000, 23_000, 25_000, 17_000, 14_000, 21_000], index=range(1997, 2005))"
   ]
  },
  {
   "cell_type": "code",
   "execution_count": 54,
   "id": "ed2f109d",
   "metadata": {},
   "outputs": [
    {
     "data": {
      "text/plain": [
       "{1997: 12000,\n",
       " 1998: 15000,\n",
       " 1999: 20000,\n",
       " 2000: 23000,\n",
       " 2001: 25000,\n",
       " 2002: 17000,\n",
       " 2003: 14000,\n",
       " 2004: 21000}"
      ]
     },
     "execution_count": 54,
     "metadata": {},
     "output_type": "execute_result"
    }
   ],
   "source": [
    "fatturati_dict"
   ]
  },
  {
   "cell_type": "code",
   "execution_count": 55,
   "id": "d61794da",
   "metadata": {},
   "outputs": [
    {
     "data": {
      "text/plain": [
       "1997    12000\n",
       "1998    15000\n",
       "1999    20000\n",
       "2000    23000\n",
       "2001    25000\n",
       "2002    17000\n",
       "2003    14000\n",
       "2004    21000\n",
       "dtype: int64"
      ]
     },
     "execution_count": 55,
     "metadata": {},
     "output_type": "execute_result"
    }
   ],
   "source": [
    "fatturati_series"
   ]
  },
  {
   "cell_type": "code",
   "execution_count": 57,
   "id": "18959425",
   "metadata": {},
   "outputs": [
    {
     "name": "stdout",
     "output_type": "stream",
     "text": [
      "12000 - 12000\n"
     ]
    }
   ],
   "source": [
    "#il dizionario è composto da una coppia chiave: valore.\n",
    "#gli elementi sono accessibili tramite la sintassi chiave[valore]\n",
    "#i valori nella serie sono stanziati in un array e l'accesso avviene tramite indice (funzioni iloc e loc)\n",
    "\n",
    "print(fatturati_dict[1997],\"-\",fatturati_series.loc[1997])"
   ]
  },
  {
   "cell_type": "code",
   "execution_count": 59,
   "id": "eb7c8b56",
   "metadata": {},
   "outputs": [],
   "source": [
    "# L'azienda Object SpA ha un dataset con tutti gli stipendi dei dipendenti, memorizzato in un ndarray:\n",
    "stipendi = np.array([100, 200, 300, 400, 500,  600, 700, 800, 900, 1000])"
   ]
  },
  {
   "cell_type": "code",
   "execution_count": 63,
   "id": "be01256b",
   "metadata": {},
   "outputs": [
    {
     "name": "stdout",
     "output_type": "stream",
     "text": [
      "[200, 400, 600, 800, 1000, 1200, 1400, 1600, 1800, 2000]\n",
      "[ 200  400  600  800 1000 1200 1400 1600 1800 2000]\n",
      "[200, 400, 600, 800, 1000, 1200, 1400, 1600, 1800, 2000]\n"
     ]
    }
   ],
   "source": [
    "#raddoppio gli stipendi:\n",
    "#1 sol:\n",
    "stipendi2 = []\n",
    "for stipendio in stipendi:\n",
    "    stipendi2.append(stipendio*2)\n",
    "print(stipendi2)\n",
    "\n",
    "#2 sol:\n",
    "stipendi2 = stipendi * 2\n",
    "print(stipendi2)\n",
    "\n",
    "#3sol:\n",
    "stipendi2 = [x*2 for x in stipendi]\n",
    "print(stipendi2)"
   ]
  },
  {
   "cell_type": "code",
   "execution_count": null,
   "id": "482706eb",
   "metadata": {},
   "outputs": [],
   "source": []
  }
 ],
 "metadata": {
  "kernelspec": {
   "display_name": "Python 3 (ipykernel)",
   "language": "python",
   "name": "python3"
  },
  "language_info": {
   "codemirror_mode": {
    "name": "ipython",
    "version": 3
   },
   "file_extension": ".py",
   "mimetype": "text/x-python",
   "name": "python",
   "nbconvert_exporter": "python",
   "pygments_lexer": "ipython3",
   "version": "3.11.5"
  }
 },
 "nbformat": 4,
 "nbformat_minor": 5
}
