{
 "cells": [
  {
   "cell_type": "code",
   "execution_count": 1,
   "id": "380f919a-8536-43ae-9be9-75002b176ea4",
   "metadata": {
    "tags": []
   },
   "outputs": [
    {
     "name": "stdout",
     "output_type": "stream",
     "text": [
      "25\n"
     ]
    }
   ],
   "source": [
    "#25 studenti e output\n",
    "n_studenti = 25\n",
    "print(n_studenti)"
   ]
  },
  {
   "cell_type": "code",
   "execution_count": 2,
   "id": "25b50ce9-b05b-4a77-9cf2-3f724289c1df",
   "metadata": {
    "tags": []
   },
   "outputs": [],
   "source": [
    "#nuovi studenti\n",
    "def nuovi_studenti(n_studenti, nums):\n",
    "    return n_studenti + nums"
   ]
  },
  {
   "cell_type": "code",
   "execution_count": 3,
   "id": "f7eeb2af-9bc7-4040-b007-e8c46360d21d",
   "metadata": {
    "tags": []
   },
   "outputs": [
    {
     "name": "stdout",
     "output_type": "stream",
     "text": [
      "28\n"
     ]
    }
   ],
   "source": [
    "totale_studenti = nuovi_studenti(n_studenti, nums = 3)\n",
    "print(totale_studenti)"
   ]
  },
  {
   "cell_type": "code",
   "execution_count": 4,
   "id": "c83b8c67-d971-4e49-b378-09bcea6f2721",
   "metadata": {
    "tags": []
   },
   "outputs": [
    {
     "name": "stdout",
     "output_type": "stream",
     "text": [
      "epicode\n"
     ]
    }
   ],
   "source": [
    "#stringa EPICODE\n",
    "epicode = 'epicode'\n",
    "print(epicode)"
   ]
  },
  {
   "cell_type": "code",
   "execution_count": 5,
   "id": "efdd1d09-6bfd-454e-8752-0668d5d8516f",
   "metadata": {
    "tags": []
   },
   "outputs": [],
   "source": [
    "#incrementare la variabile x di 2 e moltiplicarla per 3"
   ]
  },
  {
   "cell_type": "code",
   "execution_count": 6,
   "id": "8825966f-9c8a-4b25-a0a3-38630097d57c",
   "metadata": {
    "tags": []
   },
   "outputs": [],
   "source": [
    "def ask():\n",
    "    while True:\n",
    "        try:\n",
    "            n = int(input(\"Inserisci un numero: \"))\n",
    "        except:\n",
    "            print(\"Il valore inserito non è un numero\")\n",
    "            continue\n",
    "        else:\n",
    "            break\n",
    "    return n"
   ]
  },
  {
   "cell_type": "code",
   "execution_count": 11,
   "id": "ab658ac8-f7fa-4eb5-8b43-3cd4b71e1907",
   "metadata": {
    "tags": []
   },
   "outputs": [
    {
     "name": "stdin",
     "output_type": "stream",
     "text": [
      "Inserisci un numero:  2\n"
     ]
    }
   ],
   "source": [
    "x = ask()"
   ]
  },
  {
   "cell_type": "code",
   "execution_count": 13,
   "id": "0d2c3bb1-58c4-486e-9b77-4a845cd1d530",
   "metadata": {
    "tags": []
   },
   "outputs": [],
   "source": [
    "def f_result(x):\n",
    "    return (x + 2) * 3\n",
    "    "
   ]
  },
  {
   "cell_type": "code",
   "execution_count": 14,
   "id": "e8eacf1b-5767-4a18-be88-c1123871659c",
   "metadata": {
    "tags": []
   },
   "outputs": [
    {
     "name": "stdout",
     "output_type": "stream",
     "text": [
      "12\n"
     ]
    }
   ],
   "source": [
    "result = f_result(x)\n",
    "print(result)"
   ]
  },
  {
   "cell_type": "code",
   "execution_count": 15,
   "id": "7f367f86-d8aa-4df9-8f23-0e48d3ef9281",
   "metadata": {
    "tags": []
   },
   "outputs": [],
   "source": [
    "#verificare se il numero di è compreso fra 5 e 8\n",
    "str1 = \"Windows\"\n",
    "str2 = \"Excel\"\n",
    "str3 = \"Powerpoint\"\n",
    "str4 = \"Word\"\n"
   ]
  },
  {
   "cell_type": "code",
   "execution_count": 18,
   "id": "61921123-f280-48d8-9cb4-7b40d04b116f",
   "metadata": {
    "tags": []
   },
   "outputs": [
    {
     "name": "stdout",
     "output_type": "stream",
     "text": [
      "Windows\n",
      "Excel\n"
     ]
    }
   ],
   "source": [
    "my_list = [str1, str2, str3, str4]\n",
    "new_list = [x for x in my_list if len(x) >= 5 and len(x) <=8]\n",
    "for item in new_list:\n",
    "    print(item)"
   ]
  },
  {
   "cell_type": "code",
   "execution_count": 24,
   "id": "3d19124d-b6f8-42ba-8c80-19e783fbd65f",
   "metadata": {
    "tags": []
   },
   "outputs": [
    {
     "name": "stdout",
     "output_type": "stream",
     "text": [
      "Secondi in un anno bistestile: 31622400\n"
     ]
    }
   ],
   "source": [
    "#calcolare i secondi i un anno bisestile\n",
    "def secondi_anno_bisestile():\n",
    "    giorni_in_un_anno = 366\n",
    "    secondi_in_un_giorno = 24 * 60 * 60\n",
    "    secondi_in_un_anno = giorni_in_un_anno * secondi_in_un_giorno\n",
    "    return secondi_in_un_anno\n",
    "\n",
    "print(\"Secondi in un anno bistestile:\",secondi_anno_bisestile())"
   ]
  },
  {
   "cell_type": "code",
   "execution_count": 25,
   "id": "d72c508b-8a1a-4c59-aed8-25963b302704",
   "metadata": {
    "tags": []
   },
   "outputs": [
    {
     "name": "stdout",
     "output_type": "stream",
     "text": [
      "i am studying python\n",
      "I AM STUDYING PYTHON\n"
     ]
    }
   ],
   "source": [
    "#esercizio su stringhe\n",
    "my_string = \"I am studying Python\"\n",
    "print(my_string.lower())\n",
    "print(my_string.upper())"
   ]
  },
  {
   "cell_type": "code",
   "execution_count": 22,
   "id": "cc7ea0bb-fc07-4b70-b877-aebb89fc7476",
   "metadata": {
    "tags": []
   },
   "outputs": [],
   "source": [
    "new_string= my_string.replace(\"Python\", \"a lot\")"
   ]
  },
  {
   "cell_type": "code",
   "execution_count": 26,
   "id": "12a28aaf-e12d-4bf8-8d7d-ea9c89a3cf78",
   "metadata": {
    "tags": []
   },
   "outputs": [
    {
     "name": "stdout",
     "output_type": "stream",
     "text": [
      "I am studying a lot\n"
     ]
    }
   ],
   "source": [
    "print(new_string)"
   ]
  },
  {
   "cell_type": "code",
   "execution_count": 28,
   "id": "f36381c6-fb30-4f79-99a8-90144f9dc296",
   "metadata": {
    "tags": []
   },
   "outputs": [
    {
     "data": {
      "text/plain": [
       "'I am studying a lot'"
      ]
     },
     "execution_count": 28,
     "metadata": {},
     "output_type": "execute_result"
    }
   ],
   "source": [
    "new_string.strip() #non cambia nulla non essendoci spazi all'inizio e alla fine della stringa"
   ]
  },
  {
   "cell_type": "code",
   "execution_count": null,
   "id": "c2d0c9f2-ff63-481a-af9a-8a2b50d269bc",
   "metadata": {},
   "outputs": [],
   "source": []
  }
 ],
 "metadata": {
  "kernelspec": {
   "display_name": "Python 3 (ipykernel)",
   "language": "python",
   "name": "python3"
  },
  "language_info": {
   "codemirror_mode": {
    "name": "ipython",
    "version": 3
   },
   "file_extension": ".py",
   "mimetype": "text/x-python",
   "name": "python",
   "nbconvert_exporter": "python",
   "pygments_lexer": "ipython3",
   "version": "3.11.5"
  }
 },
 "nbformat": 4,
 "nbformat_minor": 5
}
